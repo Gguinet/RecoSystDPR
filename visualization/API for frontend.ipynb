{
 "cells": [
  {
   "cell_type": "code",
   "execution_count": 1,
   "id": "21c3fb03",
   "metadata": {},
   "outputs": [
    {
     "name": "stdout",
     "output_type": "stream",
     "text": [
      "Running on local URL:  http://127.0.0.1:7908/\n",
      "\n",
      "To create a public link, set `share=True` in `launch()`.\n"
     ]
    },
    {
     "data": {
      "text/html": [
       "<div><iframe src=\"http://127.0.0.1:7908/\" width=\"900\" height=\"500\" allow=\"autoplay; camera; microphone;\" frameborder=\"0\" allowfullscreen></iframe></div>"
      ],
      "text/plain": [
       "<IPython.core.display.HTML object>"
      ]
     },
     "metadata": {},
     "output_type": "display_data"
    },
    {
     "data": {
      "text/plain": [
       "(<gradio.routes.App at 0x7f8f874efc40>, 'http://127.0.0.1:7908/', None)"
      ]
     },
     "execution_count": 1,
     "metadata": {},
     "output_type": "execute_result"
    }
   ],
   "source": [
    "import gradio as gr\n",
    "import requests as r\n",
    "import json\n",
    "from requests.structures import CaseInsensitiveDict\n",
    "\n",
    "# Creation a frontend using Gradio.app\n",
    "def call_api_doc(text):\n",
    "\n",
    "    headers = CaseInsensitiveDict()\n",
    "    headers[\"Accept\"] = \"application/json\"\n",
    "    headers[\"Content-Type\"] = \"application/json\"\n",
    "    url = \"http://127.0.0.1:8000/query\" # Set here the URL of the API\n",
    "\n",
    "    response = r.post(url,\n",
    "                      headers = headers,\n",
    "                      data = json.dumps({\"text\":text}))\n",
    "    \n",
    "    candidate = response.json()\n",
    "    \n",
    "    \n",
    "    return dict(zip(candidate['passage'], candidate['scores']))\n",
    "    \n",
    "\n",
    "examples = [[\"Who is the best founder ?\"],[\"How to raise cash ?\"],[\"When is product-market fit found ?\"]]\n",
    "            \n",
    "\n",
    "demo = gr.Interface(fn=call_api_doc,\n",
    "                    inputs=[gr.Textbox(lines=2, placeholder=\"Write your text here...\")],\n",
    "                    examples=examples,\n",
    "                    description=\"A Semantic Search interface powered by ML.\",\n",
    "                    title=\"RecSystDPS\",\n",
    "                    outputs=gr.Label())\n",
    "\n",
    "demo.launch()\n",
    "\n"
   ]
  },
  {
   "cell_type": "code",
   "execution_count": 3,
   "id": "51e267cd",
   "metadata": {},
   "outputs": [
    {
     "name": "stdout",
     "output_type": "stream",
     "text": [
      "\n",
      "Thanks for being a Gradio user! If you have questions or feedback, please join our Discord server and chat with us: https://discord.gg/feTf9x3ZSB\n",
      "Running on local URL:  http://127.0.0.1:7909/\n",
      "\n",
      "To create a public link, set `share=True` in `launch()`.\n"
     ]
    },
    {
     "data": {
      "text/html": [
       "<div><iframe src=\"http://127.0.0.1:7909/\" width=\"900\" height=\"500\" allow=\"autoplay; camera; microphone;\" frameborder=\"0\" allowfullscreen></iframe></div>"
      ],
      "text/plain": [
       "<IPython.core.display.HTML object>"
      ]
     },
     "metadata": {},
     "output_type": "display_data"
    },
    {
     "data": {
      "text/plain": [
       "(<gradio.routes.App at 0x7f8f835aa700>, 'http://127.0.0.1:7909/', None)"
      ]
     },
     "execution_count": 3,
     "metadata": {},
     "output_type": "execute_result"
    }
   ],
   "source": [
    "# Creation a frontend using Gradio.app\n",
    "def call_api_single(text):\n",
    "\n",
    "    headers = CaseInsensitiveDict()\n",
    "    headers[\"Accept\"] = \"application/json\"\n",
    "    headers[\"Content-Type\"] = \"application/json\"\n",
    "    url = \"http://127.0.0.1:8000/query\" # Set here the URL of the API\n",
    "\n",
    "    response = r.post(url,\n",
    "                      headers = headers,\n",
    "                      data = json.dumps({\"text\":text}))\n",
    "    \n",
    "    candidate = response.json()\n",
    "    \n",
    "    \n",
    "    return candidate['passage'][0]\n",
    "\n",
    "# Quest\n",
    "\n",
    "\n",
    "def chat(message, history,use_past = False):\n",
    "    history = history or []\n",
    "    new_message = ' '\n",
    "    if use_past:\n",
    "        for mess, res in history:\n",
    "            new_message += mess + ' ' + res\n",
    "        response = call_api_single(new_message + ' ' + message)\n",
    "    else:\n",
    "        response = call_api_single(message)\n",
    "    history.append((message, response))\n",
    "    return history, history\n",
    "\n",
    "\n",
    "chatbot = gr.Chatbot(label = 'Chatbot')#.style(color_map=(\"green\", \"pink\"))\n",
    "demo = gr.Interface(\n",
    "    chat,\n",
    "    [\"text\", \"state\"],\n",
    "    [chatbot, \"state\"],\n",
    "    allow_flagging=\"never\",\n",
    "    description=\"A Semantic Search chatbot powered by ML.\",\n",
    "    title=\"RecSystDPS\",\n",
    ")\n",
    "\n",
    "demo.launch()"
   ]
  },
  {
   "cell_type": "code",
   "execution_count": null,
   "id": "09ae6c7c",
   "metadata": {},
   "outputs": [],
   "source": [
    "import pickle\n",
    "import pandas as pd"
   ]
  },
  {
   "cell_type": "code",
   "execution_count": null,
   "id": "6562cfdd",
   "metadata": {},
   "outputs": [],
   "source": [
    "# Save tsv Data\n",
    "\n",
    "DATA_PATH = '/Users/gauthierguinet/Github/RecoSystDPR/data/'\n",
    "EMBEDDING_PATH = DATA_PATH+ 'embedding_data/emd.pkl'\n",
    "PASSAGE_PATH =  DATA_PATH+ 'passage_data/passage.pkl'\n",
    "VIS_PATH = '/Users/gauthierguinet/Github/RecoSystDPR/data/data_visu'\n",
    "\n",
    "def main():\n",
    "\n",
    "    # Check if we previously stored data\n",
    "    try:\n",
    "        with open(EMBEDDING_PATH, \"rb\") as f:\n",
    "            emb_data = pickle.load(f)\n",
    "        with open(PASSAGE_PATH, \"rb\") as f:\n",
    "            passage_data = pickle.load(f)\n",
    "    except:\n",
    "        raise Exception('No embedding or passage data found')\n",
    "\n",
    "    # Save the data on tsv format\n",
    "\n",
    "    # Convert NumPy array of embedding into data frame\n",
    "    embedding_df = pd.DataFrame(emb_data)\n",
    "\n",
    "    # Save dataframe as as TSV file without any index and header\n",
    "    embedding_df.to_csv(VIS_PATH+'output.tsv', sep='\\t', index=None, header=None)\n",
    "\n",
    "    # Save MetaData without any index\n",
    "    passage_df = pd.DataFrame(passage_data)\n",
    "\n",
    "    passage_df.to_csv(VIS_PATH+'/metadata.tsv', index=False, sep='\\t')"
   ]
  },
  {
   "cell_type": "code",
   "execution_count": null,
   "id": "2210ac1f",
   "metadata": {},
   "outputs": [],
   "source": [
    "with open(EMBEDDING_PATH, \"rb\") as f:\n",
    "    emb_data = pickle.load(f)\n",
    "        \n",
    "    # Convert NumPy array of embedding into data frame\n",
    "    embedding_df = pd.DataFrame(emb_data)\n",
    "\n",
    "    # Save dataframe as as TSV file without any index and header\n",
    "    embedding_df.to_csv(VIS_PATH+'/output.tsv', sep='\\t', index=None, header=None)\n",
    "    \n",
    "with open(PASSAGE_PATH, \"rb\") as f:\n",
    "    passage_data = pickle.load(f)\n",
    "        \n",
    "    # Save MetaData without any index\n",
    "    passage_df = pd.DataFrame(passage_data)\n",
    "\n",
    "    passage_df.to_csv(VIS_PATH+'/metadata.tsv', sep='\\t', index=None, header=None)"
   ]
  }
 ],
 "metadata": {
  "kernelspec": {
   "display_name": "Python 3 (ipykernel)",
   "language": "python",
   "name": "python3"
  },
  "language_info": {
   "codemirror_mode": {
    "name": "ipython",
    "version": 3
   },
   "file_extension": ".py",
   "mimetype": "text/x-python",
   "name": "python",
   "nbconvert_exporter": "python",
   "pygments_lexer": "ipython3",
   "version": "3.9.7"
  }
 },
 "nbformat": 4,
 "nbformat_minor": 5
}
